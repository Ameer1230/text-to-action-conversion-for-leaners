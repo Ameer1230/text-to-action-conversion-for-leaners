{
 "cells": [
  {
   "cell_type": "code",
   "execution_count": 1,
   "metadata": {},
   "outputs": [],
   "source": [
    "import os"
   ]
  },
  {
   "cell_type": "code",
   "execution_count": 3,
   "metadata": {},
   "outputs": [
    {
     "name": "stdout",
     "output_type": "stream",
     "text": [
      "Family.gif\n",
      "FAMILY\n",
      "Good Bye.gif\n",
      "GOOD BYE\n",
      "Hello.gif\n",
      "HELLO\n",
      "house.gif\n",
      "HOUSE\n",
      "I Love You.gif\n",
      "I LOVE YOU\n",
      "Love.gif\n",
      "LOVE\n",
      "No.gif\n",
      "NO\n",
      "Please.gif\n",
      "PLEASE\n",
      "Sorry.gif\n",
      "SORRY\n",
      "Thank You.gif\n",
      "THANK YOU\n",
      "Yes.gif\n",
      "YES\n",
      "You Are Welcome.gif\n",
      "YOU ARE WELCOME\n"
     ]
    }
   ],
   "source": [
    "for file in os.listdir('videos'):\n",
    "    if file.endswith('.gif'):\n",
    "        print(file)\n",
    "        name = file.split('.')[0]\n",
    "        # make the name all uppercase\n",
    "        name = name.upper()\n",
    "        print(name)\n",
    "        os.rename('videos/' + file, 'videos/' + name + '.gif')\n"
   ]
  }
 ],
 "metadata": {
  "kernelspec": {
   "display_name": "Python 3",
   "language": "python",
   "name": "python3"
  },
  "language_info": {
   "codemirror_mode": {
    "name": "ipython",
    "version": 3
   },
   "file_extension": ".py",
   "mimetype": "text/x-python",
   "name": "python",
   "nbconvert_exporter": "python",
   "pygments_lexer": "ipython3",
   "version": "3.11.8"
  }
 },
 "nbformat": 4,
 "nbformat_minor": 2
}
